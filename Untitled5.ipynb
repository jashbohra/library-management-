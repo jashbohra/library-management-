{
  "nbformat": 4,
  "nbformat_minor": 0,
  "metadata": {
    "colab": {
      "provenance": []
    },
    "kernelspec": {
      "name": "python3",
      "display_name": "Python 3"
    },
    "language_info": {
      "name": "python"
    }
  },
  "cells": [
    {
      "cell_type": "code",
      "execution_count": null,
      "metadata": {
        "colab": {
          "base_uri": "https://localhost:8080/"
        },
        "id": "dgTyOWVgq2LS",
        "outputId": "542842ea-6ac3-4dfd-fb80-51512a2043e2"
      },
      "outputs": [
        {
          "output_type": "stream",
          "name": "stdout",
          "text": [
            "Requirement already satisfied: frappe-bench in /usr/local/lib/python3.10/dist-packages (5.17.2)\n",
            "Requirement already satisfied: click>=7.0 in /usr/local/lib/python3.10/dist-packages (from frappe-bench) (8.1.7)\n",
            "Requirement already satisfied: gitpython~=3.1.30 in /usr/local/lib/python3.10/dist-packages (from frappe-bench) (3.1.36)\n",
            "Requirement already satisfied: honcho in /usr/local/lib/python3.10/dist-packages (from frappe-bench) (1.1.0)\n",
            "Requirement already satisfied: jinja2~=3.0.3 in /usr/local/lib/python3.10/dist-packages (from frappe-bench) (3.0.3)\n",
            "Requirement already satisfied: python-crontab~=2.6.0 in /usr/local/lib/python3.10/dist-packages (from frappe-bench) (2.6.0)\n",
            "Requirement already satisfied: requests in /usr/local/lib/python3.10/dist-packages (from frappe-bench) (2.31.0)\n",
            "Requirement already satisfied: semantic-version~=2.8.2 in /usr/local/lib/python3.10/dist-packages (from frappe-bench) (2.8.5)\n",
            "Requirement already satisfied: setuptools>40.9.0 in /usr/local/lib/python3.10/dist-packages (from frappe-bench) (67.7.2)\n",
            "Requirement already satisfied: tomli in /usr/local/lib/python3.10/dist-packages (from frappe-bench) (2.0.1)\n",
            "Requirement already satisfied: gitdb<5,>=4.0.1 in /usr/local/lib/python3.10/dist-packages (from gitpython~=3.1.30->frappe-bench) (4.0.10)\n",
            "Requirement already satisfied: MarkupSafe>=2.0 in /usr/local/lib/python3.10/dist-packages (from jinja2~=3.0.3->frappe-bench) (2.1.3)\n",
            "Requirement already satisfied: python-dateutil in /usr/local/lib/python3.10/dist-packages (from python-crontab~=2.6.0->frappe-bench) (2.8.2)\n",
            "Requirement already satisfied: charset-normalizer<4,>=2 in /usr/local/lib/python3.10/dist-packages (from requests->frappe-bench) (3.2.0)\n",
            "Requirement already satisfied: idna<4,>=2.5 in /usr/local/lib/python3.10/dist-packages (from requests->frappe-bench) (3.4)\n",
            "Requirement already satisfied: urllib3<3,>=1.21.1 in /usr/local/lib/python3.10/dist-packages (from requests->frappe-bench) (2.0.4)\n",
            "Requirement already satisfied: certifi>=2017.4.17 in /usr/local/lib/python3.10/dist-packages (from requests->frappe-bench) (2023.7.22)\n",
            "Requirement already satisfied: smmap<6,>=3.0.1 in /usr/local/lib/python3.10/dist-packages (from gitdb<5,>=4.0.1->gitpython~=3.1.30->frappe-bench) (5.0.0)\n",
            "Requirement already satisfied: six>=1.5 in /usr/local/lib/python3.10/dist-packages (from python-dateutil->python-crontab~=2.6.0->frappe-bench) (1.16.0)\n"
          ]
        }
      ],
      "source": [
        "pip install frappe-bench\n"
      ]
    },
    {
      "cell_type": "code",
      "source": [
        "from __future__ import unicode_literals\n",
        "import frappe\n",
        "\n",
        "def validate(doc, method):\n",
        "    # Your validation code here\n",
        "    pass\n",
        "\n",
        "def on_submit(doc, method):\n",
        "    # Your submission code here\n",
        "    pass\n",
        "\n",
        "def on_cancel(doc, method):\n",
        "    # Your cancellation code here\n",
        "    pass\n",
        "\n",
        "\n",
        "\n"
      ],
      "metadata": {
        "id": "CQ7ImLzSrG2I"
      },
      "execution_count": null,
      "outputs": []
    },
    {
      "cell_type": "code",
      "source": [
        "import frappe\n",
        "\n",
        "@frappe.whitelist()\n",
        "def create_book(title, author, isbn):\n",
        "    book = frappe.get_doc({\n",
        "        'doctype': 'Book',\n",
        "        'title': title,\n",
        "        'author': author,\n",
        "        'isbn': isbn\n",
        "    })\n",
        "    book.insert()\n",
        "    return book\n",
        "\n",
        "@frappe.whitelist()\n",
        "def get_book(book_name):\n",
        "    return frappe.get_all('Book', filters={'title': book_name})\n",
        "\n",
        "@frappe.whitelist()\n",
        "def update_book(book_name, title, author, isbn):\n",
        "    book = frappe.get_doc('Book', book_name)\n",
        "    book.title = title\n",
        "    book.author = author\n",
        "    book.isbn = isbn\n",
        "    book.save()\n",
        "    return book\n",
        "\n",
        "@frappe.whitelist()\n",
        "def delete_book(book_name):\n",
        "    frappe.delete_doc('Book', book_name)\n"
      ],
      "metadata": {
        "id": "bFxVrQ6dHrpf"
      },
      "execution_count": null,
      "outputs": []
    },
    {
      "cell_type": "code",
      "source": [
        "from library.library.doctype.book import book\n",
        "\n",
        "def setup_api(api):\n",
        "    api.add_resource(book.create_book, '/api/resource/Book/create_book')\n",
        "    api.add_resource(book.get_book, '/api/resource/Book/get_book')\n",
        "    api.add_resource(book.update_book, '/api/resource/Book/update_book')\n",
        "    api.add_resource(book.delete_book, '/api/resource/Book/delete_book')"
      ],
      "metadata": {
        "id": "rWO8JwwCH4Lr"
      },
      "execution_count": null,
      "outputs": []
    },
    {
      "cell_type": "code",
      "source": [
        "from library.library.api import setup_api\n",
        "\n",
        "def get_routes():\n",
        "    return [\n",
        "        {\n",
        "            \"app\": \"library\",\n",
        "            \"api_base_url\": \"/api/method\",\n",
        "            \"route\": \"/library_management.api\",\n",
        "            \"methods\": [\"GET\", \"POST\"]\n",
        "        }\n",
        "    ]"
      ],
      "metadata": {
        "id": "43Oa5BeNH_nO"
      },
      "execution_count": null,
      "outputs": []
    }
  ]
}